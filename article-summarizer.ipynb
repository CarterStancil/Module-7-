{
 "cells": [
  {
   "cell_type": "markdown",
   "metadata": {},
   "source": [
    "# Web Mining and Applied NLP (44-620)\n",
    "\n",
    "## Final Project: Article Summarizer\n",
    "\n",
    "### Student Name: Carter Stancil \n",
    "\n",
    "Perform the tasks described in the Markdown cells below.  When you have completed the assignment make sure your code cells have all been run (and have output beneath them) and ensure you have committed and pushed ALL of your changes to your assignment repository.\n",
    "\n",
    "You should bring in code from previous assignments to help you answer the questions below.\n",
    "\n",
    "Every question that requires you to write code will have a code cell underneath it; you may either write your entire solution in that cell or write it in a python file (`.py`), then import and run the appropriate code to answer the question."
   ]
  },
  {
   "cell_type": "code",
   "execution_count": 1,
   "metadata": {},
   "outputs": [
    {
     "name": "stdout",
     "output_type": "stream",
     "text": [
      "Package                 Version\n",
      "----------------------- -----------\n",
      "annotated-types         0.7.0\n",
      "asttokens               3.0.0\n",
      "beautifulsoup4          4.13.4\n",
      "blis                    1.3.0\n",
      "catalogue               2.0.10\n",
      "certifi                 2025.8.3\n",
      "charset-normalizer      3.4.2\n",
      "click                   8.2.1\n",
      "cloudpathlib            0.21.1\n",
      "colorama                0.4.6\n",
      "comm                    0.2.3\n",
      "confection              0.1.5\n",
      "contourpy               1.3.3\n",
      "cycler                  0.12.1\n",
      "cymem                   2.0.11\n",
      "debugpy                 1.8.15\n",
      "decorator               5.2.1\n",
      "executing               2.2.0\n",
      "fonttools               4.59.0\n",
      "html5lib                1.1\n",
      "idna                    3.10\n",
      "ipykernel               6.30.1\n",
      "ipython                 9.4.0\n",
      "ipython_pygments_lexers 1.1.1\n",
      "jedi                    0.19.2\n",
      "Jinja2                  3.1.6\n",
      "joblib                  1.5.1\n",
      "jupyter_client          8.6.3\n",
      "jupyter_core            5.8.1\n",
      "kiwisolver              1.4.8\n",
      "langcodes               3.5.0\n",
      "language_data           1.3.0\n",
      "marisa-trie             1.2.1\n",
      "markdown-it-py          3.0.0\n",
      "MarkupSafe              3.0.2\n",
      "matplotlib              3.10.5\n",
      "matplotlib-inline       0.1.7\n",
      "mdurl                   0.1.2\n",
      "murmurhash              1.0.13\n",
      "nest-asyncio            1.6.0\n",
      "nltk                    3.9.1\n",
      "numpy                   2.3.2\n",
      "packaging               25.0\n",
      "parso                   0.8.4\n",
      "pillow                  11.3.0\n",
      "pip                     25.0.1\n",
      "platformdirs            4.3.8\n",
      "preshed                 3.0.10\n",
      "prompt_toolkit          3.0.51\n",
      "psutil                  7.0.0\n",
      "pure_eval               0.2.3\n",
      "pydantic                2.11.7\n",
      "pydantic_core           2.33.2\n",
      "Pygments                2.19.2\n",
      "pyparsing               3.2.3\n",
      "python-dateutil         2.9.0.post0\n",
      "pywin32                 311\n",
      "pyzmq                   27.0.1\n",
      "regex                   2025.7.34\n",
      "requests                2.32.4\n",
      "rich                    14.1.0\n",
      "setuptools              80.9.0\n",
      "shellingham             1.5.4\n",
      "six                     1.17.0\n",
      "smart_open              7.3.0.post1\n",
      "soupsieve               2.7\n",
      "spacy                   3.8.7\n",
      "spacy-legacy            3.0.12\n",
      "spacy-loggers           1.0.5\n",
      "spacytextblob           5.0.0\n",
      "srsly                   2.5.1\n",
      "stack-data              0.6.3\n",
      "textblob                0.19.0\n",
      "thinc                   8.3.6\n",
      "tornado                 6.5.1\n",
      "tqdm                    4.67.1\n",
      "traitlets               5.14.3\n",
      "typer                   0.16.0\n",
      "typing_extensions       4.14.1\n",
      "typing-inspection       0.4.1\n",
      "urllib3                 2.5.0\n",
      "wasabi                  1.1.3\n",
      "wcwidth                 0.2.13\n",
      "weasel                  0.4.1\n",
      "webencodings            0.5.1\n",
      "wrapt                   1.17.2\n",
      "All prereqs installed.\n"
     ]
    }
   ],
   "source": [
    "from collections import Counter\n",
    "import pickle\n",
    "import requests\n",
    "import spacy\n",
    "from bs4 import BeautifulSoup\n",
    "import matplotlib.pyplot as plt\n",
    "\n",
    "!pip list\n",
    "\n",
    "print('All prereqs installed.')"
   ]
  },
  {
   "cell_type": "markdown",
   "metadata": {},
   "source": [
    "1. Find on the internet an article or blog post about a topic that interests you and you are able to get the text for using the technologies we have applied in the course.  Get the html for the article and store it in a file (which you must submit with your project)"
   ]
  },
  {
   "cell_type": "code",
   "execution_count": 1,
   "metadata": {},
   "outputs": [
    {
     "name": "stdout",
     "output_type": "stream",
     "text": [
      "Article HTML saved to steph_curry_article.pkl\n"
     ]
    }
   ],
   "source": [
    "import requests\n",
    "from bs4 import BeautifulSoup\n",
    "import pickle\n",
    "\n",
    "\n",
    "url = \"https://www.forbes.com/sites/donyaeger/2025/03/04/the-greatness-of-steph-curry-a-leadership-lesson-worth-watching/\"\n",
    "\n",
    "\n",
    "response = requests.get(url)\n",
    "response.raise_for_status()  \n",
    "\n",
    "\n",
    "soup = BeautifulSoup(response.text, 'html.parser')\n",
    "\n",
    "article = soup.find(\"article\") \n",
    "\n",
    "article_html = str(article)\n",
    "\n",
    "with open(\"steph_curry_article.pkl\", \"wb\") as f:\n",
    "    pickle.dump(article_html, f)\n",
    "\n",
    "print(\"Article HTML saved to steph_curry_article.pkl\")"
   ]
  },
  {
   "cell_type": "markdown",
   "metadata": {},
   "source": [
    "2. Read in your article's html source from the file you created in question 1 and do sentiment analysis on the article/post's text (use `.get_text()`).  Print the polarity score with an appropriate label.  Additionally print the number of sentences in the original article (with an appropriate label)"
   ]
  },
  {
   "cell_type": "code",
   "execution_count": 10,
   "metadata": {},
   "outputs": [
    {
     "name": "stdout",
     "output_type": "stream",
     "text": [
      "Polarity Score 0.19161155511155512\n",
      "Number of sentences: 51\n"
     ]
    }
   ],
   "source": [
    "import spacy\n",
    "from collections import Counter\n",
    "from textblob import TextBlob\n",
    "\n",
    "with open(\"steph_curry_article.pkl\", \"rb\") as f:\n",
    "    article_html = pickle.load(f)\n",
    "\n",
    "soup = BeautifulSoup(article_html, \"html.parser\")\n",
    "\n",
    "article_text = soup.get_text(separator=\"\\n\", strip=True)\n",
    "\n",
    "blob = TextBlob(article_text)\n",
    "\n",
    "polarity = blob.sentiment.polarity\n",
    "\n",
    "print(f\"Polarity Score {polarity}\")\n",
    "\n",
    "nlp = spacy.load(\"en_core_web_sm\")\n",
    "\n",
    "doc = nlp(article_text)\n",
    "\n",
    "num_sentences = len(list(doc.sents))\n",
    "\n",
    "print(f\"Number of sentences: {num_sentences}\")\n"
   ]
  },
  {
   "cell_type": "markdown",
   "metadata": {},
   "source": [
    "3. Load the article text into a trained `spaCy` pipeline, and determine the 5 most frequent tokens (converted to lower case).  Print the common tokens with an appropriate label.  Additionally, print the tokens their frequencies (with appropriate labels)"
   ]
  },
  {
   "cell_type": "code",
   "execution_count": 11,
   "metadata": {},
   "outputs": [
    {
     "name": "stdout",
     "output_type": "stream",
     "text": [
      "Top 5 Most Frequent Tokens (lowercased, excluding stopwords/punctuation):\n",
      "Token: 'greatness' — Frequency: 7\n",
      "Token: 'leadership' — Frequency: 5\n",
      "Token: 'lesson' — Frequency: 4\n",
      "Token: 'watching' — Frequency: 4\n",
      "Token: 'business' — Frequency: 4\n"
     ]
    }
   ],
   "source": [
    "with open(\"steph_curry_article.pkl\", \"rb\") as f:\n",
    "    article_html = pickle.load(f)\n",
    "\n",
    "soup = BeautifulSoup(article_html, \"html.parser\")\n",
    "\n",
    "article_text = soup.get_text(separator=\"\\n\", strip=True)\n",
    "\n",
    "\n",
    "nlp = spacy.load(\"en_core_web_sm\")\n",
    "\n",
    "doc = nlp(article_text)\n",
    "\n",
    "exclude_words = [\"getty\", \"images\", \"user\", \"warriors\", \"kerr\", \"curry\"]\n",
    "\n",
    "tokens = [\n",
    "    token.text.lower()\n",
    "    for token in doc\n",
    "    if not token.is_stop and not token.is_punct and not token.is_space and token.text.lower () not in exclude_words\n",
    "]\n",
    "\n",
    "token_freq = Counter(tokens)\n",
    "\n",
    "most_common = token_freq.most_common(5)\n",
    "\n",
    "print(\"Top 5 Most Frequent Tokens (lowercased, excluding stopwords/punctuation):\")\n",
    "for token, freq in most_common:\n",
    "    print(f\"Token: '{token}' — Frequency: {freq}\")"
   ]
  },
  {
   "cell_type": "markdown",
   "metadata": {},
   "source": [
    "4. Load the article text into a trained `spaCy` pipeline, and determine the 5 most frequent lemmas (converted to lower case).  Print the common lemmas with an appropriate label.  Additionally, print the lemmas with their frequencies (with appropriate labels)."
   ]
  },
  {
   "cell_type": "code",
   "execution_count": 15,
   "metadata": {},
   "outputs": [
    {
     "name": "stdout",
     "output_type": "stream",
     "text": [
      "Top 5 Most Frequent Lemmas (lowercased, excluding stopwords/punctuation):\n",
      "Lemma: 'greatness' — Frequency: 7\n",
      "Lemma: 'leadership' — Frequency: 5\n",
      "Lemma: 'lesson' — Frequency: 5\n",
      "Lemma: 'watch' — Frequency: 4\n",
      "Lemma: 'study' — Frequency: 4\n"
     ]
    }
   ],
   "source": [
    "with open(\"steph_curry_article.pkl\", \"rb\") as f:\n",
    "    article_html = pickle.load(f)\n",
    "\n",
    "soup = BeautifulSoup(article_html, \"html.parser\")\n",
    "\n",
    "article_text = soup.get_text(separator=\"\\n\", strip=True)\n",
    "\n",
    "nlp = spacy.load(\"en_core_web_sm\")\n",
    "\n",
    "\n",
    "doc = nlp(article_text)\n",
    "\n",
    "exclude_lemmas = [\"curry\", \"getty\", \"images\", \"warriors\", \"kerr\", \"user\"]\n",
    "\n",
    "lemmas = [\n",
    "    token.lemma_.lower()\n",
    "    for token in doc\n",
    "    if not token.is_stop and not token.is_punct and not token.is_space and token.lemma_.lower() not in exclude_lemmas\n",
    "]\n",
    "\n",
    "lemma_freq = Counter(lemmas)\n",
    "\n",
    "most_common_lemmas = lemma_freq.most_common(5)\n",
    "\n",
    "\n",
    "print(\"Top 5 Most Frequent Lemmas (lowercased, excluding stopwords/punctuation):\")\n",
    "for lemma, freq in most_common_lemmas:\n",
    "    print(f\"Lemma: '{lemma}' — Frequency: {freq}\")"
   ]
  },
  {
   "cell_type": "markdown",
   "metadata": {},
   "source": [
    "5. Make a list containing the scores (using tokens) of every sentence in the article, and plot a histogram with appropriate titles and axis labels of the scores. From your histogram, what seems to be the most common range of scores (put the answer in a comment after your code)?"
   ]
  },
  {
   "cell_type": "code",
   "execution_count": 18,
   "metadata": {},
   "outputs": [
    {
     "name": "stdout",
     "output_type": "stream",
     "text": [
      "Score by token: 0.02\n"
     ]
    },
    {
     "data": {
      "image/png": "[encoded data removed]",
      "text/plain": [
       "<Figure size 1000x600 with 1 Axes>"
      ]
     },
     "metadata": {},
     "output_type": "display_data"
    }
   ],
   "source": [
    "import matplotlib.pyplot as plt\n",
    "\n",
    "def score_sentence_by_token(sentence, interesting_tokens):\n",
    "  \n",
    "    \n",
    "    words = sentence.split()\n",
    "    if not words:\n",
    "        return 0.0\n",
    "\n",
    "    \n",
    "    words_lower = [word.lower() for word in words]\n",
    "    interesting_set = set(interesting_tokens)\n",
    "\n",
    "    \n",
    "    match_count = sum(1 for word in words_lower if word in interesting_set)\n",
    "\n",
    "    return match_count / len(words)\n",
    "\n",
    "with open(\"steph_curry_article.pkl\", \"rb\") as f:\n",
    "    article_html = pickle.load(f)\n",
    "\n",
    "soup = BeautifulSoup(article_html, \"html.parser\")\n",
    "\n",
    "article_text = soup.get_text(separator=\"\\n\", strip=True)\n",
    "nlp = spacy.load(\"en_core_web_sm\")\n",
    "doc = nlp(article_text)\n",
    "sentences = [sent.text for sent in doc.sents]\n",
    "\n",
    "interesting_tokens = [\"greatness\", \"leadership\", \"lesson\", \"watching\", \"business\"]\n",
    "\n",
    "score = score_sentence_by_token(article_text, interesting_tokens)\n",
    "print(f\"Score by token: {score:.2f}\")\n",
    "\n",
    "scores = [score_sentence_by_token(sent, interesting_tokens) for sent in sentences]\n",
    "\n",
    "\n",
    "plt.figure(figsize=(10, 6))\n",
    "plt.hist(scores, bins=20, color=\"skyblue\", edgecolor=\"black\")\n",
    "plt.title(\"Distribution of Sentence Scores Based on Interesting Tokens\")\n",
    "plt.xlabel(\"Score (matches / total words in sentence)\")\n",
    "plt.ylabel(\"Number of Sentences\")\n",
    "plt.grid(axis='y', linestyle='--', alpha=0.7)\n",
    "plt.tight_layout()\n",
    "plt.show()\n",
    "\n",
    "\n"
   ]
  },
  {
   "cell_type": "markdown",
   "metadata": {},
   "source": [
    "6. Make a list containing the scores (using lemmas) of every sentence in the article, and plot a histogram with appropriate titles and axis labels of the scores.  From your histogram, what seems to be the most common range of scores (put the answer in a comment after your code)?"
   ]
  },
  {
   "cell_type": "code",
   "execution_count": 20,
   "metadata": {},
   "outputs": [
    {
     "name": "stdout",
     "output_type": "stream",
     "text": [
      "Score by lemmas: 0.03\n"
     ]
    },
    {
     "data": {
      "image/png": "[encoded data removed]",
      "text/plain": [
       "<Figure size 1000x600 with 1 Axes>"
      ]
     },
     "metadata": {},
     "output_type": "display_data"
    }
   ],
   "source": [
    "def score_sentence_by_lemmas(sentence, interesting_lemmas):\n",
    "   \n",
    "    doc = nlp(sentence)\n",
    "    lemmas_in_sentence = [\n",
    "        token.lemma_.lower()\n",
    "        for token in doc\n",
    "        if not token.is_punct and not token.is_space\n",
    "    ]\n",
    "\n",
    "    if not lemmas_in_sentence:\n",
    "        return 0.0\n",
    "\n",
    "    interesting_set = set(interesting_lemmas)\n",
    "    match_count = sum(1 for lemma in lemmas_in_sentence if lemma in interesting_set)\n",
    "\n",
    "    return match_count / len(lemmas_in_sentence)\n",
    "\n",
    "with open(\"steph_curry_article.pkl\", \"rb\") as f:\n",
    "    article_html = pickle.load(f)\n",
    "\n",
    "soup = BeautifulSoup(article_html, \"html.parser\")\n",
    "\n",
    "article_text = soup.get_text(separator=\"\\n\", strip=True)\n",
    "nlp = spacy.load(\"en_core_web_sm\")\n",
    "doc = nlp(article_text)\n",
    "sentences = [sent.text for sent in doc.sents]\n",
    "\n",
    "interesting_lemmas = [\"greatness\", \"leadership\", \"lesson\", \"watch\", \"study\"]\n",
    "\n",
    "score_lemmas = score_sentence_by_lemmas(article_text, interesting_lemmas)\n",
    "print(f\"Score by lemmas: {score_lemmas:.2f}\")\n",
    "\n",
    "scores = [score_sentence_by_lemmas(sent, interesting_lemmas) for sent in sentences]\n",
    "\n",
    "\n",
    "plt.figure(figsize=(10, 6))\n",
    "plt.hist(scores, bins=20, color=\"skyblue\", edgecolor=\"black\")\n",
    "plt.title(\"Distribution of Sentence Scores Based on Interesting Lemmas\")\n",
    "plt.xlabel(\"Score (matches / total words in sentence)\")\n",
    "plt.ylabel(\"Number of Sentences\")\n",
    "plt.grid(axis='y', linestyle='--', alpha=0.7)\n",
    "plt.tight_layout()\n",
    "plt.show()"
   ]
  },
  {
   "cell_type": "markdown",
   "metadata": {},
   "source": [
    "7. Using the histograms from questions 5 and 6, decide a \"cutoff\" score for tokens and lemmas such that fewer than half the sentences would have a score greater than the cutoff score.  Record the scores in this Markdown cell\n",
    "\n",
    "* Cutoff Score (tokens): \n",
    "* Cutoff Score (lemmas):\n",
    "\n",
    "Feel free to change these scores as you generate your summaries.  Ideally, we're shooting for at least 6 sentences for our summary, but don't want more than 10 (these numbers are rough estimates; they depend on the length of your article)."
   ]
  },
  {
   "cell_type": "markdown",
   "metadata": {},
   "source": [
    "I am going to use the average sentence score as the cutoff"
   ]
  },
  {
   "cell_type": "markdown",
   "metadata": {},
   "source": [
    "8. Create a summary of the article by going through every sentence in the article and adding it to an (initially) empty list if its score (based on tokens) is greater than the cutoff score you identified in question 8.  If your loop variable is named `sent`, you may find it easier to add `sent.text.strip()` to your list of sentences.  Print the summary (I would cleanly generate the summary text by `join`ing the strings in your list together with a space (`' '.join(sentence_list)`)."
   ]
  },
  {
   "cell_type": "code",
   "execution_count": 63,
   "metadata": {},
   "outputs": [
    {
     "name": "stdout",
     "output_type": "stream",
     "text": [
      "Summary:\n",
      "Why?\n",
      "You appreciate it.\n",
      "We grow tired of greatness.\n",
      "He’s an incredible performer, and he put on quite a show tonight.”\n",
      "For the first time since 2019…he dunked!\n",
      "“I’m calling it right now.\n",
      "That was the last one you’re going to see.”\n",
      "He’s still evolving.\n",
      "So here’s the question for leaders: are you watching?\n",
      "Are you studying?\n",
      "Because one day, Curry will take his final shot.\n"
     ]
    }
   ],
   "source": [
    "from statistics import mean\n",
    "\n",
    "with open(\"steph_curry_article.pkl\", \"rb\") as f:\n",
    "    article_html = pickle.load(f)\n",
    "\n",
    "\n",
    "\n",
    "soup = BeautifulSoup(article_html, \"html.parser\")\n",
    "\n",
    "for tag in soup.find_all(['img', 'figure', 'figcaption']):\n",
    "    tag.decompose()  \n",
    "\n",
    "for tag in soup.find_all(class_=['image', 'image-caption', 'media']):\n",
    "    tag.decompose()\n",
    "\n",
    "article_text = soup.get_text(separator=\"\\n\", strip=True)\n",
    "\n",
    "nlp = spacy.load(\"en_core_web_sm\")\n",
    "\n",
    "doc = nlp(article_text)\n",
    "\n",
    "exclude_words = [\"getty\", \"images\", \"user\", \"warriors\", \"kerr\", \"curry\"]\n",
    "\n",
    "sentence_scores = []\n",
    "for sent in doc.sents:\n",
    "    score = sum(1 for token in sent if token.is_alpha and token.text.lower() not in exclude_words and not token.is_stop)\n",
    "    sentence_scores.append((sent.text.strip(), score))\n",
    "scores = [score for _, score in sentence_scores]\n",
    "cutoff = 4.\n",
    "\n",
    "summary = [text for text, score in sentence_scores if score < cutoff]\n",
    "\n",
    "print(\"Summary:\")\n",
    "for s in summary:\n",
    "    print(\"\".join(s))"
   ]
  },
  {
   "cell_type": "markdown",
   "metadata": {},
   "source": [
    "9. Print the polarity score of your summary you generated with the token scores (with an appropriate label). Additionally, print the number of sentences in the summarized article."
   ]
  },
  {
   "cell_type": "code",
   "execution_count": 57,
   "metadata": {},
   "outputs": [
    {
     "name": "stdout",
     "output_type": "stream",
     "text": [
      "Polarity Score 0.18303571428571427\n",
      "Number of sentences: 11\n"
     ]
    }
   ],
   "source": [
    "summary_text = \"Why? You appreciate it. We grow tired of greatness. He’s an incredible performer, and he put on quite a show tonight. For the first time since 2019…he dunked! I’m calling it right now. That was the last one you’re going to see. He’s still evolving. So here’s the question for leaders: are you watching? Are you studying? Because one day, Curry will take his final shot.\"\n",
    "\n",
    "blob = TextBlob(summary_text)\n",
    "\n",
    "polarity = blob.sentiment.polarity\n",
    "\n",
    "print(f\"Polarity Score {polarity}\")\n",
    "\n",
    "doc = nlp(summary_text)\n",
    "\n",
    "num_sentences = len(list(doc.sents))\n",
    "\n",
    "print(f\"Number of sentences: {num_sentences}\")"
   ]
  },
  {
   "cell_type": "markdown",
   "metadata": {},
   "source": [
    "10. Create a summary of the article by going through every sentence in the article and adding it to an (initially) empty list if its score (based on lemmas) is greater than the cutoff score you identified in question 8.  If your loop variable is named `sent`, you may find it easier to add `sent.text.strip()` to your list of sentences.  Print the summary (I would cleanly generate the summary text by `join`ing the strings in your list together with a space (`' '.join(sentence_list)`)."
   ]
  },
  {
   "cell_type": "code",
   "execution_count": 65,
   "metadata": {},
   "outputs": [
    {
     "name": "stdout",
     "output_type": "stream",
     "text": [
      "Summary:\n",
      "Why?\n",
      "You appreciate it.\n",
      "We grow tired of greatness.\n",
      "He’s an incredible performer, and he put on quite a show tonight.”\n",
      "For the first time since 2019…he dunked!\n",
      "“I’m calling it right now.\n",
      "That was the last one you’re going to see.”\n",
      "He’s still evolving.\n",
      "So here’s the question for leaders: are you watching?\n",
      "Are you studying?\n",
      "Because one day, Curry will take his final shot.\n"
     ]
    }
   ],
   "source": [
    "from statistics import mean\n",
    "\n",
    "with open(\"steph_curry_article.pkl\", \"rb\") as f:\n",
    "    article_html = pickle.load(f)\n",
    "\n",
    "\n",
    "\n",
    "soup = BeautifulSoup(article_html, \"html.parser\")\n",
    "\n",
    "for tag in soup.find_all(['img', 'figure', 'figcaption']):\n",
    "    tag.decompose()  \n",
    "\n",
    "for tag in soup.find_all(class_=['image', 'image-caption', 'media']):\n",
    "    tag.decompose()\n",
    "\n",
    "article_text = soup.get_text(separator=\"\\n\", strip=True)\n",
    "\n",
    "nlp = spacy.load(\"en_core_web_sm\")\n",
    "\n",
    "doc = nlp(article_text)\n",
    "\n",
    "interesting_lemmas = [\"greatness\", \"leadership\", \"lesson\", \"watch\", \"study\"]\n",
    "\n",
    "sentence_scores = []\n",
    "for sent in doc.sents:\n",
    "    score = sum(1 for token in sent if token.is_alpha and token.lemma_.lower() not in exclude_lemmas and not token.is_stop)\n",
    "    sentence_scores.append((sent.text.strip(), score))\n",
    "scores = [score for _, score in sentence_scores]\n",
    "cutoff = 4\n",
    "\n",
    "summary = [text for text, score in sentence_scores if score < cutoff]\n",
    "\n",
    "print(\"Summary:\")\n",
    "for s in summary:\n",
    "    print(\"\".join(s))"
   ]
  },
  {
   "cell_type": "markdown",
   "metadata": {},
   "source": [
    "11. Print the polarity score of your summary you generated with the lemma scores (with an appropriate label). Additionally, print the number of sentences in the summarized article."
   ]
  },
  {
   "cell_type": "code",
   "execution_count": 66,
   "metadata": {},
   "outputs": [
    {
     "name": "stdout",
     "output_type": "stream",
     "text": [
      "Polarity Score 0.18303571428571427\n",
      "Number of sentences: 11\n"
     ]
    }
   ],
   "source": [
    "summary_text = \"Why? You appreciate it. We grow tired of greatness. He’s an incredible performer, and he put on quite a show tonight. For the first time since 2019…he dunked! I’m calling it right now. That was the last one you’re going to see. He’s still evolving. So here’s the question for leaders: are you watching? Are you studying? Because one day, Curry will take his final shot.\"\n",
    "\n",
    "blob = TextBlob(summary_text)\n",
    "\n",
    "polarity = blob.sentiment.polarity\n",
    "\n",
    "print(f\"Polarity Score {polarity}\")\n",
    "\n",
    "doc = nlp(summary_text)\n",
    "\n",
    "num_sentences = len(list(doc.sents))\n",
    "\n",
    "print(f\"Number of sentences: {num_sentences}\")"
   ]
  },
  {
   "cell_type": "markdown",
   "metadata": {},
   "source": [
    "12.  Compare your polarity scores of your summaries to the polarity scores of the initial article.  Is there a difference?  Why do you think that may or may not be?.  Answer in this Markdown cell.  "
   ]
  },
  {
   "cell_type": "markdown",
   "metadata": {},
   "source": [
    "There is no difference between the two summaries and scores. This may be due to the excluded tokens and lemmas I defined earlier. "
   ]
  },
  {
   "cell_type": "markdown",
   "metadata": {},
   "source": [
    "13. Based on your reading of the original article, which summary do you think is better (if there's a difference).  Why do you think this might be?"
   ]
  },
  {
   "cell_type": "markdown",
   "metadata": {},
   "source": [
    "Both of my summaries were the same, which ended up including both of the similar tokens/lemmas. If I did not exclude multiple words, there might be a slight difference. But this article is ultimately applauding Steph Curry for what hes done for the game an his legacy"
   ]
  }
 ],
 "metadata": {
  "kernelspec": {
   "display_name": ".venv (3.13.3)",
   "language": "python",
   "name": "python3"
  },
  "language_info": {
   "codemirror_mode": {
    "name": "ipython",
    "version": 3
   },
   "file_extension": ".py",
   "mimetype": "text/x-python",
   "name": "python",
   "nbconvert_exporter": "python",
   "pygments_lexer": "ipython3",
   "version": "3.13.3"
  }
 },
 "nbformat": 4,
 "nbformat_minor": 4
}
